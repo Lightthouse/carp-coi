{
 "cells": [
  {
   "cell_type": "code",
   "metadata": {},
   "source": [
    "import pandas as pd\n",
    "import numpy as np\n",
    "import matplotlib.pyplot as plt\n",
    "from sklearn.linear_model import LinearRegression\n",
    "from icecream import ic"
   ],
   "id": "f2b90e550ba4a0dc",
   "outputs": [],
   "execution_count": null
  },
  {
   "cell_type": "markdown",
   "metadata": {},
   "source": [
    "Загрузим табличку с нашими данными про длительность поездок такси! "
   ],
   "id": "508181a3d3c5c230"
  },
  {
   "cell_type": "code",
   "metadata": {},
   "source": [
    "df = pd.read_csv('taxi_dataset_with_target.csv', index_col=0)\n",
    "\n",
    "df.head()"
   ],
   "id": "5a445eadaec83c07",
   "outputs": [],
   "execution_count": null
  },
  {
   "cell_type": "markdown",
   "metadata": {},
   "source": [
    "Попробуем построить модель Линейной Регрессии!\n",
    "\n",
    "В качестве Выборки используйте таргетную колонку (*trip_duration*) и все признаки, кроме времени начала заказа (*pickup_datetime*)\n",
    "\n",
    "Для начала воспользуемся \"коробочным решением\". Для этого создайте переменную model, положите в нее класс **LinearRegression** из модуля **linear_model** библиотеки **sklearn**.\n",
    "\n",
    "Далее воспользуйтесь методом **fit**, положите в него через запятую: массив **X**, состоящий из признаков объектов (можно pandas dataframe'ом, а можно numpy-массивом), и массив **Y** с таргетами."
   ],
   "id": "be7737d753b8f2cb"
  },
  {
   "cell_type": "code",
   "metadata": {},
   "source": [
    "X = df.drop(columns=['pickup_datetime', 'trip_duration'])\n",
    "Y = df.trip_duration"
   ],
   "id": "3f729c2fc74b1235",
   "outputs": [],
   "execution_count": null
  },
  {
   "cell_type": "code",
   "metadata": {},
   "source": [
    "model=LinearRegression()\n",
    "model.fit(X, Y)"
   ],
   "id": "f7f0a7c9186cdcf5",
   "outputs": [],
   "execution_count": null
  },
  {
   "cell_type": "markdown",
   "metadata": {},
   "source": [
    "Чтобы посмотреть на значения полученных коэффициентов модели, следует обратиться к атрибуту **coef_** класса линейной регрессии. Для просмотра свободного веса, к атрибуту **intercept_** "
   ],
   "id": "8b5019b349dbe880"
  },
  {
   "cell_type": "code",
   "metadata": {},
   "source": [
    "### Your code is here\n",
    "for column, coef in zip(X.columns, model.coef_):\n",
    "    print(column, coef)\n",
    "\n",
    "print('intercept: ', model.intercept_)"
   ],
   "id": "3c18f0b12f4d2dc0",
   "outputs": [],
   "execution_count": null
  },
  {
   "cell_type": "code",
   "metadata": {
    "ExecuteTime": {
     "end_time": "2025-03-14T11:45:55.921787Z",
     "start_time": "2025-03-14T11:45:55.913777Z"
    }
   },
   "source": [
    "### Полученные коэффициенты будут являться ответом на задание 5 в ЛМС.\n",
    "### Перечислите коэффициенты через запятую и пробел, округлив до 3 знаков после точки.\n",
    "### Используйте точку в качестве десятичного разделителя.\n",
    "print(*model.coef_.round(3))"
   ],
   "id": "4523d9eab949b521",
   "outputs": [
    {
     "name": "stdout",
     "output_type": "stream",
     "text": [
      "198.463 0.296 56.469 115.274\n"
     ]
    }
   ],
   "execution_count": 37
  },
  {
   "cell_type": "markdown",
   "metadata": {},
   "source": [
    "Теперь реализуйте функцию LinearRegressionByMatrix, которая будет принимать на вход 3 параметра:\n",
    "\n",
    "Матрицу объект-признак **(X)**, вектор с ответами **(Y)**, булевый параметр **fit_intercept**, цель которого - добавить константный признак (состоящий из единичек), если True, и ничего не делать, если False.\n",
    "\n",
    "Функция должна вернуть одномерный np.array объект с оцененными **$\\beta_1, ..., \\beta_n, \\beta_0$**\n",
    "\n",
    "Реализуйте решение через аналитическое решение в матрицах из лекции и практики:\n",
    "\n",
    "$$\n",
    "\\beta^* = (X^T \\cdot X)^{-1} \\cdot X^T \\cdot Y\n",
    "$$"
   ],
   "id": "102af0c16448f6b8"
  },
  {
   "cell_type": "code",
   "metadata": {
    "ExecuteTime": {
     "end_time": "2025-03-14T11:43:55.294212Z",
     "start_time": "2025-03-14T11:43:55.281724Z"
    }
   },
   "source": [
    "\n",
    "def LinearRegressionByMatrix(X: np.array, Y: np.array, fit_intercept: bool = True):\n",
    "    \"\"\"\n",
    "    :param X: матрица объектов\n",
    "    :param Y: вектор (матрица с 1 столбцом) ответов\n",
    "    :param fit_intercept: добавить ли константную переменную в данные?\n",
    "\n",
    "    :return: одномерный numpy-array с полученными коэффициентами beta\n",
    "    \"\"\"\n",
    "    if fit_intercept:\n",
    "        X = np.append(X, np.full([X.shape[0], 1], 1), axis=1)\n",
    "\n",
    "    xxt = np.dot(X.T, X)\n",
    "    xxt_inv = np.linalg.inv(xxt)\n",
    "    xxt_inv_xxt = np.dot(xxt_inv, X.T)\n",
    "    final_betas = np.dot(xxt_inv_xxt, Y)\n",
    "\n",
    "    return final_betas"
   ],
   "id": "956cb719ddb6e9d1",
   "outputs": [],
   "execution_count": 33
  },
  {
   "cell_type": "code",
   "metadata": {
    "ExecuteTime": {
     "end_time": "2025-03-14T11:44:56.737135Z",
     "start_time": "2025-03-14T11:44:56.472984Z"
    }
   },
   "source": [
    "X_train = df.drop(['trip_duration', 'pickup_datetime'], axis=1).values\n",
    "Y_train = df['trip_duration'].values\n",
    "\n",
    "matrix_res = LinearRegressionByMatrix(X_train, Y_train)"
   ],
   "id": "d115616ceceb8ded",
   "outputs": [],
   "execution_count": 35
  },
  {
   "cell_type": "code",
   "metadata": {
    "ExecuteTime": {
     "end_time": "2025-03-14T11:45:09.279033Z",
     "start_time": "2025-03-14T11:45:09.269306Z"
    }
   },
   "source": [
    "### Полученные коэффициенты будут являться ответом на задание 6 в ЛМС.\n",
    "### Перечислите коэффициенты через запятую и пробел, округлив до 3 знаков после точки.\n",
    "### Используйте точку в качестве десятичного разделителя.\n",
    "print(matrix_res.round(3))"
   ],
   "id": "20a88855aa52dcd8",
   "outputs": [
    {
     "name": "stdout",
     "output_type": "stream",
     "text": [
      "[198.463   0.296  56.469 115.274 171.657]\n"
     ]
    }
   ],
   "execution_count": 36
  },
  {
   "cell_type": "markdown",
   "metadata": {},
   "source": [
    "Получились ли коэффициенты такими же, как и в \"коробочном\" варианте?\n",
    "\n",
    "Имея коэффициенты модели, можно восстановить предсказания для каждого объекта!\n",
    "\n",
    "Сделайте это через операцию матричного произведения матрицы **X** и полученных коэффициентов (как результат работы *LinearRegressionByMatrix*)"
   ],
   "id": "3a091e74f8d91d12"
  },
  {
   "cell_type": "code",
   "metadata": {},
   "source": [
    "### Your code is here"
   ],
   "id": "1520a3d9f6472e9d",
   "outputs": [],
   "execution_count": null
  },
  {
   "metadata": {},
   "cell_type": "code",
   "outputs": [],
   "execution_count": null,
   "source": "",
   "id": "6c75445dc1930efe"
  }
 ],
 "metadata": {
  "kernelspec": {
   "display_name": "Python 3",
   "language": "python",
   "name": "python3"
  },
  "language_info": {
   "codemirror_mode": {
    "name": "ipython",
    "version": 3
   },
   "file_extension": ".py",
   "mimetype": "text/x-python",
   "name": "python",
   "nbconvert_exporter": "python",
   "pygments_lexer": "ipython3",
   "version": "3.7.3"
  }
 },
 "nbformat": 4,
 "nbformat_minor": 5
}
