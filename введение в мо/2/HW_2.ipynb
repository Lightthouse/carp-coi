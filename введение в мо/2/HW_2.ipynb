{
 "cells": [
  {
   "cell_type": "code",
   "metadata": {
    "id": "81t4wEj-9sjI",
    "ExecuteTime": {
     "end_time": "2025-03-11T12:33:12.388790Z",
     "start_time": "2025-03-11T12:33:10.569181Z"
    }
   },
   "source": [
    "import math\n",
    "import pandas as pd\n",
    "import numpy as np\n",
    "import matplotlib.pyplot as plt\n",
    "from sklearn.linear_model import LinearRegression\n",
    "from icecream import ic"
   ],
   "id": "dde2b82f68d33e9e",
   "outputs": [],
   "execution_count": 29
  },
  {
   "cell_type": "markdown",
   "metadata": {
    "id": "Eir77xQk9sjK"
   },
   "source": [
    "**Научимся считать метрики в pandas-табличках**\n",
    "\n",
    "Представим, что 2 добрых и очень-очень умных гнома прокрались к нам в данные, описывающие различные поездки в такси.\n",
    "Далее, для каждого объекта (и его признаков, соответственно), гномы построили модели предсказания того, какая должна была быть у данных заказов длительность исполнения. Прогнозы своих моделей они положили соответственно в колонки **prediction_1** и **prediction_2**"
   ],
   "id": "ec4db628261079f3"
  },
  {
   "cell_type": "code",
   "metadata": {
    "id": "cF_CAFZ89sjL",
    "ExecuteTime": {
     "end_time": "2025-03-11T12:11:21.071572Z",
     "start_time": "2025-03-11T12:11:16.838877Z"
    }
   },
   "source": [
    "df = pd.read_csv('taxi_dataset_with_predictions.csv', index_col=0)"
   ],
   "id": "2018d3d092b785f2",
   "outputs": [],
   "execution_count": 2
  },
  {
   "cell_type": "code",
   "metadata": {
    "id": "UlT5Cex79sjN",
    "ExecuteTime": {
     "end_time": "2025-03-11T12:11:53.600816Z",
     "start_time": "2025-03-11T12:11:53.556441Z"
    }
   },
   "source": [
    "df.head()"
   ],
   "id": "1868e1a54517346b",
   "outputs": [
    {
     "data": {
      "text/plain": [
       "           vendor_id      pickup_datetime  passenger_count  \\\n",
       "id                                                           \n",
       "id2875421          1  2016-03-14 17:24:55       930.399753   \n",
       "id2377394          0  2016-06-12 00:43:35       930.399753   \n",
       "id3858529          1  2016-01-19 11:35:24       930.399753   \n",
       "id3504673          1  2016-04-06 19:32:31       930.399753   \n",
       "id2181028          1  2016-03-26 13:30:55       930.399753   \n",
       "\n",
       "           store_and_fwd_flag  trip_duration  distance_km  prediction_1  \\\n",
       "id                                                                        \n",
       "id2875421                   0          455.0     1.500479    578.156451   \n",
       "id2377394                   0          663.0     1.807119    962.657188   \n",
       "id3858529                   0         2124.0     6.392080   2546.180515   \n",
       "id3504673                   0          429.0     1.487155    737.926214   \n",
       "id2181028                   0          435.0     1.189925    666.070794   \n",
       "\n",
       "           prediction_2  \n",
       "id                       \n",
       "id2875421    355.270710  \n",
       "id2377394    674.295781  \n",
       "id3858529   2422.132431  \n",
       "id3504673    795.992362  \n",
       "id2181028     -4.158492  "
      ],
      "text/html": [
       "<div>\n",
       "<style scoped>\n",
       "    .dataframe tbody tr th:only-of-type {\n",
       "        vertical-align: middle;\n",
       "    }\n",
       "\n",
       "    .dataframe tbody tr th {\n",
       "        vertical-align: top;\n",
       "    }\n",
       "\n",
       "    .dataframe thead th {\n",
       "        text-align: right;\n",
       "    }\n",
       "</style>\n",
       "<table border=\"1\" class=\"dataframe\">\n",
       "  <thead>\n",
       "    <tr style=\"text-align: right;\">\n",
       "      <th></th>\n",
       "      <th>vendor_id</th>\n",
       "      <th>pickup_datetime</th>\n",
       "      <th>passenger_count</th>\n",
       "      <th>store_and_fwd_flag</th>\n",
       "      <th>trip_duration</th>\n",
       "      <th>distance_km</th>\n",
       "      <th>prediction_1</th>\n",
       "      <th>prediction_2</th>\n",
       "    </tr>\n",
       "    <tr>\n",
       "      <th>id</th>\n",
       "      <th></th>\n",
       "      <th></th>\n",
       "      <th></th>\n",
       "      <th></th>\n",
       "      <th></th>\n",
       "      <th></th>\n",
       "      <th></th>\n",
       "      <th></th>\n",
       "    </tr>\n",
       "  </thead>\n",
       "  <tbody>\n",
       "    <tr>\n",
       "      <th>id2875421</th>\n",
       "      <td>1</td>\n",
       "      <td>2016-03-14 17:24:55</td>\n",
       "      <td>930.399753</td>\n",
       "      <td>0</td>\n",
       "      <td>455.0</td>\n",
       "      <td>1.500479</td>\n",
       "      <td>578.156451</td>\n",
       "      <td>355.270710</td>\n",
       "    </tr>\n",
       "    <tr>\n",
       "      <th>id2377394</th>\n",
       "      <td>0</td>\n",
       "      <td>2016-06-12 00:43:35</td>\n",
       "      <td>930.399753</td>\n",
       "      <td>0</td>\n",
       "      <td>663.0</td>\n",
       "      <td>1.807119</td>\n",
       "      <td>962.657188</td>\n",
       "      <td>674.295781</td>\n",
       "    </tr>\n",
       "    <tr>\n",
       "      <th>id3858529</th>\n",
       "      <td>1</td>\n",
       "      <td>2016-01-19 11:35:24</td>\n",
       "      <td>930.399753</td>\n",
       "      <td>0</td>\n",
       "      <td>2124.0</td>\n",
       "      <td>6.392080</td>\n",
       "      <td>2546.180515</td>\n",
       "      <td>2422.132431</td>\n",
       "    </tr>\n",
       "    <tr>\n",
       "      <th>id3504673</th>\n",
       "      <td>1</td>\n",
       "      <td>2016-04-06 19:32:31</td>\n",
       "      <td>930.399753</td>\n",
       "      <td>0</td>\n",
       "      <td>429.0</td>\n",
       "      <td>1.487155</td>\n",
       "      <td>737.926214</td>\n",
       "      <td>795.992362</td>\n",
       "    </tr>\n",
       "    <tr>\n",
       "      <th>id2181028</th>\n",
       "      <td>1</td>\n",
       "      <td>2016-03-26 13:30:55</td>\n",
       "      <td>930.399753</td>\n",
       "      <td>0</td>\n",
       "      <td>435.0</td>\n",
       "      <td>1.189925</td>\n",
       "      <td>666.070794</td>\n",
       "      <td>-4.158492</td>\n",
       "    </tr>\n",
       "  </tbody>\n",
       "</table>\n",
       "</div>"
      ]
     },
     "execution_count": 3,
     "metadata": {},
     "output_type": "execute_result"
    }
   ],
   "execution_count": 3
  },
  {
   "cell_type": "markdown",
   "metadata": {
    "id": "hJJOnoaw9sjO"
   },
   "source": [
    "Давайте попробуем оценить, насколько и вправду гномы оказались умными и осведомленными в области построения различных моделей машинного обучения, и найдем, насколько сильно их модели ошибаются на наших данных!"
   ],
   "id": "e79a88ded14c6fa9"
  },
  {
   "cell_type": "markdown",
   "metadata": {
    "id": "ZSeEOdpP9sjO"
   },
   "source": [
    "В начале посчитайте **MSE** модели. Для этого нужно посчитать квадратичное отклонение на каждом объекте, а потом просто усредниться! Полезно иметь формулу перед глазами.\n",
    "\n",
    "$$\n",
    "MSE = \\frac{1}{n} \\sum_i^n (a(x_i)-y_i)^2\n",
    "$$\n",
    "\n",
    "Положите результаты в переменные *error_1* и *error_2* соответственно."
   ],
   "id": "509c2dd4de823fbc"
  },
  {
   "metadata": {
    "ExecuteTime": {
     "end_time": "2025-03-11T12:18:52.671617Z",
     "start_time": "2025-03-11T12:18:52.506398Z"
    }
   },
   "cell_type": "code",
   "source": "sum((df.trip_duration - df.prediction_1) ** 2) / len(df.trip_duration)",
   "id": "9fe9355e7452dc6",
   "outputs": [
    {
     "data": {
      "text/plain": [
       "99994.45103364227"
      ]
     },
     "execution_count": 10,
     "metadata": {},
     "output_type": "execute_result"
    }
   ],
   "execution_count": 10
  },
  {
   "metadata": {
    "id": "ozhTh4ls9sjQ",
    "ExecuteTime": {
     "end_time": "2025-03-11T12:14:00.397706Z",
     "start_time": "2025-03-11T12:14:00.349646Z"
    }
   },
   "cell_type": "code",
   "outputs": [],
   "execution_count": 5,
   "source": [
    "### Your code is here\n",
    "error_1 = ((df.prediction_1 - df.trip_duration) ** 2).mean()\n",
    "error_2 = ((df.prediction_2 - df.trip_duration) ** 2).mean()"
   ],
   "id": "f5d9231ae2466f7a"
  },
  {
   "cell_type": "code",
   "metadata": {
    "id": "_JbxQKWp9sjQ",
    "ExecuteTime": {
     "end_time": "2025-03-11T12:14:03.130596Z",
     "start_time": "2025-03-11T12:14:03.122815Z"
    }
   },
   "source": [
    "###Распечатайте значения MSE для обеих моделей. Используйте эти значения для ответа на задание шага 5.\n",
    "print(f\"MSE первой модели равно: {int(error_1)}\")\n",
    "print(f\"MSE второй модели равно: {int(error_2)}\")"
   ],
   "id": "5d18d83607cc7f1b",
   "outputs": [
    {
     "name": "stdout",
     "output_type": "stream",
     "text": [
      "MSE первой модели равно: 99994\n",
      "MSE второй модели равно: 124936\n"
     ]
    }
   ],
   "execution_count": 6
  },
  {
   "cell_type": "markdown",
   "metadata": {
    "id": "_AuLIFkJ9sjQ"
   },
   "source": [
    "Видно, что у MSE достаточно большой порядок. Как мы и говорили, глазам куда будет приятнее, если мы будем считать **RMSE**:\n",
    "\n",
    "$$\n",
    "RMSE = \\sqrt{MSE} = \\sqrt{\\frac{1}{n} \\sum_i^n (a(x_i)-y_i)^2}\n",
    "$$"
   ],
   "id": "f67a1cc064c594b6"
  },
  {
   "cell_type": "code",
   "metadata": {
    "id": "2VsDSCtz9sjS",
    "ExecuteTime": {
     "end_time": "2025-03-11T12:21:37.622055Z",
     "start_time": "2025-03-11T12:21:37.613135Z"
    }
   },
   "source": [
    "### Your code is here\n",
    "error_1 = error_1 ** (1/2)\n",
    "error_2 = error_2 ** (1/2)\n"
   ],
   "id": "de6e523c319b08eb",
   "outputs": [],
   "execution_count": 11
  },
  {
   "cell_type": "code",
   "metadata": {
    "id": "uefqnRqk9sjS",
    "ExecuteTime": {
     "end_time": "2025-03-11T12:21:39.470747Z",
     "start_time": "2025-03-11T12:21:39.464774Z"
    }
   },
   "source": [
    "###Распечатайте значения RMSE для обеих моделей. Используйте эти значения для ответа на задание шага 6.\n",
    "\n",
    "print(f\"RMSE первой модели равно: {int(error_1)}\")\n",
    "print(f\"RMSE второй модели равно: {int(error_2)}\")"
   ],
   "id": "1d9676ce5555f688",
   "outputs": [
    {
     "name": "stdout",
     "output_type": "stream",
     "text": [
      "RMSE первой модели равно: 316\n",
      "RMSE второй модели равно: 353\n"
     ]
    }
   ],
   "execution_count": 12
  },
  {
   "cell_type": "markdown",
   "metadata": {
    "id": "_4jKIu679sjT"
   },
   "source": [
    "Что можете сказать про модели первого и второго гнома? Чья оказалась лучше с точки зрения **MSE**? Давайте теперь замерим значения средней абсолютной ошибки, то есть **MAE**:\n",
    "\n",
    "$$\n",
    "MAE = \\frac{1}{n} \\sum_i^n |a(x_i)-y_i|\n",
    "$$\n",
    "\n",
    "Рассчитайте MAE для обеих моделей."
   ],
   "id": "5deddedc05b9b24e"
  },
  {
   "cell_type": "code",
   "metadata": {
    "id": "Y8smKMFb9sjU",
    "ExecuteTime": {
     "end_time": "2025-03-11T12:22:50.612331Z",
     "start_time": "2025-03-11T12:22:50.575371Z"
    }
   },
   "source": [
    "### Your code is here\n",
    "absolute_error_1 = abs(df.prediction_1 - df.trip_duration).mean()\n",
    "absolute_error_2 = abs(df.prediction_2 - df.trip_duration).mean()"
   ],
   "id": "4d8314b8f23889c",
   "outputs": [],
   "execution_count": 13
  },
  {
   "cell_type": "code",
   "metadata": {
    "id": "JVmfwcBR9sjU",
    "ExecuteTime": {
     "end_time": "2025-03-11T12:22:53.189497Z",
     "start_time": "2025-03-11T12:22:53.178706Z"
    }
   },
   "source": [
    "###Распечатайте значения MAE для обеих моделей. Используйте эти значения для ответа на задание шага 7.\n",
    "print(f\"MAE первой модели равно: {int(absolute_error_1)}\")\n",
    "print(f\"MAE второй модели равно: {int(absolute_error_2)}\")"
   ],
   "id": "b8cf4c2d2d875c60",
   "outputs": [
    {
     "name": "stdout",
     "output_type": "stream",
     "text": [
      "MAE первой модели равно: 300\n",
      "MAE второй модели равно: 281\n"
     ]
    }
   ],
   "execution_count": 14
  },
  {
   "cell_type": "markdown",
   "metadata": {
    "id": "4cT9-FyD9sjV"
   },
   "source": [
    "Если бы Вас попросили выбрать лучшую модель среди предложенных, на какой Вы бы остановились? Если брать за финальную метрику **MAE**, то поменяли бы Вы решение?\n",
    "\n",
    "Конечно! Мы наблюдаем ту самую ситуацию, когда, имея 2 разные модели с разными предсказаниями, финальный выбор однозначно сделать нельзя, например, сказав *\"Первая модель в среднем и в общем лучше второй!\"*. **Нет!** Все зависит от формы ошибки, которую мы выбираем. Иными словами, от вида той самой функции, которая наказывает наши модели и замеряет качество их прогнозов.\n",
    "\n",
    "Ситуация, когда **MAE** и **MSE**, выбирая между 2-х,  указывают на разные модели, знакома нам еще из лекции. \n",
    "\n",
    "Такое может происходить, когда в одной из моделей ошибка, в среднем, независимо от порядка чисел, чуть-чуть лучше, чем во второй. Но при этом если первая модель и ошибается, то куда суровее второй. \n",
    "\n",
    "Представьте: Петя и Миша играют в дартс. Петя в 9/10 случаев попадает в яблочко, но каждый 10-ый раз кидает дротик в потолок. Миша же, хоть и не так часто забрасывает в центр (всего 6/10), но при этом, оставшиеся 4 попытки реализует не совсем фатально: попадает всего-лишь немного дальше яблочка. \n",
    "\n",
    "В таком выдуманном сценарии Петя будет лучше с точки зрения **MAE**, а Миша - с точки зрения **MSE**, так как не допускает фатальных ошибок, хоть и в среднем набирает меньше очков. \n",
    "\n",
    "Давайте убедимся в том, что фатальных ошибок у второй модели больше. \n",
    "\n",
    "Посчитайте, в скольки случаях предсказания отклоняются от ответа более, чем на **500**, для первой и второй моделей!\n",
    "\n",
    "Назовите переменные *counter_1* и *counter_2*"
   ],
   "id": "7f3c39b888fbe021"
  },
  {
   "cell_type": "code",
   "metadata": {
    "id": "wOwMclmm9sjV",
    "ExecuteTime": {
     "end_time": "2025-03-11T12:28:54.399977Z",
     "start_time": "2025-03-11T12:28:54.291079Z"
    }
   },
   "source": [
    "### Your code is here\n",
    "counter_1 = len(df[abs(df.prediction_1 - df.trip_duration) >= 500])\n",
    "counter_2 = len(df[abs(df.prediction_2 - df.trip_duration) >= 500])"
   ],
   "id": "5a6019a4e577c3c4",
   "outputs": [],
   "execution_count": 27
  },
  {
   "cell_type": "code",
   "metadata": {
    "id": "D9Q7WLOO9sjV",
    "ExecuteTime": {
     "end_time": "2025-03-11T12:28:55.645693Z",
     "start_time": "2025-03-11T12:28:55.637750Z"
    }
   },
   "source": [
    "###Распечатайте значения для обеих моделей. Используйте эти значения для ответа на задание шага 8.\n",
    "print(f\"Количество отклонений >= 500 от верного ответа для первой модели равно: {counter_1}\")\n",
    "print(f\"Количество отклонений >= 500 от верного ответа для второй модели равно: {counter_2}\")"
   ],
   "id": "d0aa0caebf525495",
   "outputs": [
    {
     "name": "stdout",
     "output_type": "stream",
     "text": [
      "Количество отклонений >= 500 от верного ответа для первой модели равно: 33061\n",
      "Количество отклонений >= 500 от верного ответа для второй модели равно: 228789\n"
     ]
    }
   ],
   "execution_count": 28
  },
  {
   "cell_type": "markdown",
   "metadata": {
    "id": "hn1-bXxK9sjV"
   },
   "source": [
    "**Несимметричные метрики**\n",
    "\n",
    "Зачастую, чтобы выбрать среди всего многообразия моделей, мы можем использовать несимметричные метрики. \n",
    "\n",
    "**MSE** и **MAE** относятся к симметричным. Они одинаково наказывают модель как за перепредсказание, так и за недопредсказание. Ошибки *+2* и *-2* переводятся **MSE** и **MAE** в одинаковую меру: **4** в первом случае и **2** во втором.\n",
    "\n",
    "В действительности же, можно придумать целый ряд задач, когда лучше выбирать несимметричную метрику.\n",
    "\n",
    "Представьте, что мы - дистрибьютор инсулина, и нам нужно построить модель, которая оптимизирует поставки. В таком случае кажется, что поставить лекарства на 2 единицы больше и на 2 единицы меньше - совершенно разные сценарии и разная интерпретация катастрофичности ошибки. \n",
    "\n",
    "В первом случае мы можем потерять немного прибыли, а во втором - лишить пациента жизненно важного лекарства. Поэтому хотелось бы научиться еще и по-разному оценивать *недо- и перепредсказания*. Для этого и используют несимметричные метрики! Одну из них предлагаю Вам посчитать ниже."
   ],
   "id": "39959d0ec1eb0409"
  },
  {
   "cell_type": "markdown",
   "metadata": {
    "id": "q5y4RARv9sjW"
   },
   "source": [
    "Рассчитайте **RMSLE**. Придумайте, как проверить характер несимметричности данной метрики: за что она наказывает больше - за перепредсказания или за недопредсказания? Это нужно будет в тестовом теоретическом задании.\n",
    "\n",
    "$$\n",
    "\\text{RMSLE}(X, y, a) = \\sqrt{\\frac{1}{\\ell}\\sum_{i=1}^{\\ell} \\big(\\log{(y_i + 1)} - \\log{(a(x_i) + 1)}\\big)^2}\n",
    "$$\n",
    "\n",
    "Для взятия натурального логарифма используйте библиотеку **math**\n",
    "\n",
    "P.S. Очевидно, что для некоторых отрицательных предсказаний, формула не будет работать, так как логарифм от отрицательных значений взять нельзя. Поэтому давайте подкорректируем наши прогнозы: все отрицательные числа переведем в нули (лучше уж в нашей задаче предсказать *ноль секунд*, чем *минус 100 секунд*)\n",
    "\n",
    "Переменные с метриками назовите *rmsle_1*, *rmsle_2*. Округлите их до 3 знаков после точки."
   ],
   "id": "42636f1056c22b90"
  },
  {
   "cell_type": "code",
   "metadata": {
    "id": "Ze18m7x69sjW",
    "ExecuteTime": {
     "end_time": "2025-03-11T12:34:09.304305Z",
     "start_time": "2025-03-11T12:34:09.224352Z"
    }
   },
   "source": [
    "### Замените все отрицательные предсказания на 0\n",
    "zero_pred = df.copy(deep=True)"
   ],
   "id": "5f55defe513656b7",
   "outputs": [],
   "execution_count": 30
  },
  {
   "metadata": {
    "ExecuteTime": {
     "end_time": "2025-03-11T12:36:08.456121Z",
     "start_time": "2025-03-11T12:36:08.403568Z"
    }
   },
   "cell_type": "code",
   "source": [
    "zero_pred.loc[zero_pred.prediction_1 < 0, 'prediction_1'] = 0\n",
    "zero_pred.loc[zero_pred.prediction_2 < 0, 'prediction_2'] = 0"
   ],
   "id": "42039e49fafc0c2b",
   "outputs": [],
   "execution_count": 37
  },
  {
   "metadata": {
    "id": "14Z6JTog9sjX",
    "ExecuteTime": {
     "end_time": "2025-03-11T12:44:59.748928Z",
     "start_time": "2025-03-11T12:44:56.146727Z"
    }
   },
   "cell_type": "code",
   "source": [
    "from math import log\n",
    "zero_pred['lse1'] = np.square(zero_pred['trip_duration'].apply(lambda x: log(x + 1)) -\n",
    "                             zero_pred['prediction_1'].apply(lambda x: log(x + 1)))\n",
    "\n",
    "zero_pred['lse2'] = np.square(zero_pred['trip_duration'].apply(lambda x: log(x + 1)) -\n",
    "                             zero_pred['prediction_2'].apply(lambda x: log(x + 1)))"
   ],
   "id": "6845b8c72de763ba",
   "outputs": [],
   "execution_count": 44
  },
  {
   "metadata": {
    "ExecuteTime": {
     "end_time": "2025-03-11T12:47:47.335149Z",
     "start_time": "2025-03-11T12:47:47.306792Z"
    }
   },
   "cell_type": "code",
   "source": [
    "rmsle_1 = np.sqrt(zero_pred['lse1'].mean()).round(3)\n",
    "rmsle_2 = np.sqrt(zero_pred['lse2'].mean()).round(3)"
   ],
   "id": "ebc21ca9a5797117",
   "outputs": [],
   "execution_count": 51
  },
  {
   "metadata": {
    "id": "A_IA-u2d9sjX",
    "ExecuteTime": {
     "end_time": "2025-03-11T12:47:48.806441Z",
     "start_time": "2025-03-11T12:47:48.797860Z"
    }
   },
   "cell_type": "code",
   "source": [
    "###Распечатайте значения для обеих моделей. Используйте эти значения для ответа на задание шага 9.\n",
    "print(f\"RMSLE первой модели равно: {rmsle_1}\")\n",
    "print(f\"RMSLE второй модели равно: {rmsle_2}\")"
   ],
   "id": "26c1edf6afad14fe",
   "outputs": [
    {
     "name": "stdout",
     "output_type": "stream",
     "text": [
      "RMSLE первой модели равно: 0.554\n",
      "RMSLE второй модели равно: 1.556\n"
     ]
    }
   ],
   "execution_count": 52
  },
  {
   "cell_type": "markdown",
   "metadata": {
    "id": "AlimEbB_9sjX"
   },
   "source": [
    "Посчитайте, для какого количества объектов первая модель сделала перепредсказания и недопредсказания\n",
    "\n",
    "Аналогичный расчет проведите для первой модели и недопредсказания.\n",
    "\n",
    "P.S. оставьте колонку с предсказанием такой, какой она оказалась после замены отрицательных значений\n",
    "\n",
    "Счетчики перепредсказаний и недопредсказаний назовите *over_predicted_1* и *under_predicted_1*"
   ],
   "id": "bab2b4960c7bb0db"
  },
  {
   "cell_type": "code",
   "metadata": {
    "id": "3JJUHCQU9sjY",
    "ExecuteTime": {
     "end_time": "2025-03-11T12:54:55.179054Z",
     "start_time": "2025-03-11T12:54:55.152160Z"
    }
   },
   "source": [
    "zero_pred['pred_1_diff'] = zero_pred.trip_duration - zero_pred.prediction_1\n",
    "zero_pred['pred_2_diff'] = zero_pred.trip_duration - zero_pred.prediction_2"
   ],
   "id": "1b8826378acdf035",
   "outputs": [],
   "execution_count": 53
  },
  {
   "metadata": {
    "ExecuteTime": {
     "end_time": "2025-03-11T12:57:18.588488Z",
     "start_time": "2025-03-11T12:57:18.354324Z"
    }
   },
   "cell_type": "code",
   "source": [
    "over_predicted_1 = len(zero_pred[zero_pred['pred_1_diff'] < 0])\n",
    "under_predicted_1 = len(zero_pred[zero_pred['pred_1_diff'] > 0])"
   ],
   "id": "3186752e4f1466",
   "outputs": [],
   "execution_count": 57
  },
  {
   "metadata": {
    "id": "2MwyPvvM9sjY",
    "ExecuteTime": {
     "end_time": "2025-03-11T12:57:19.970354Z",
     "start_time": "2025-03-11T12:57:19.963420Z"
    }
   },
   "cell_type": "code",
   "source": [
    "###Распечатайте значения для обеих моделей. Используйте эти значения для ответа на задание шага 10.\n",
    "print(f\"Предсказания первой модели оказались больше действительных в {over_predicted_1} случаях\")\n",
    "print(f\"Предсказания первой модели оказались меньше действительных в {under_predicted_1} случаях\")"
   ],
   "id": "8b61b11730f75d36",
   "outputs": [
    {
     "name": "stdout",
     "output_type": "stream",
     "text": [
      "Предсказания первой модели оказались больше действительных в 1456721 случаях\n",
      "Предсказания первой модели оказались меньше действительных в 1923 случаях\n"
     ]
    }
   ],
   "execution_count": 58
  },
  {
   "cell_type": "markdown",
   "metadata": {
    "id": "YQ6Cds9a9sjY"
   },
   "source": [
    "Аналогично для второй модели\n",
    "\n",
    "\n",
    "Счетчики перепредсказаний и недопредсказаний назовите *over_predicted_2* и *under_predicted_2*"
   ],
   "id": "8b3c1d92d2e5586f"
  },
  {
   "cell_type": "code",
   "metadata": {
    "id": "xphLYA3C9sjY",
    "ExecuteTime": {
     "end_time": "2025-03-11T12:58:00.089787Z",
     "start_time": "2025-03-11T12:57:59.804501Z"
    }
   },
   "source": [
    "over_predicted_2 = len(zero_pred[zero_pred['pred_2_diff'] < 0])\n",
    "under_predicted_2 = len(zero_pred[zero_pred['pred_2_diff'] > 0])"
   ],
   "id": "a6b2cbe895b7a0e3",
   "outputs": [],
   "execution_count": 59
  },
  {
   "cell_type": "code",
   "metadata": {
    "id": "x8ee6qxn9sjZ",
    "ExecuteTime": {
     "end_time": "2025-03-11T12:58:01.530268Z",
     "start_time": "2025-03-11T12:58:01.524615Z"
    }
   },
   "source": [
    "###Распечатайте значения для обеих моделей. Используйте эти значения для ответа на задание шага 11.\n",
    "print(f\"Предсказания второй модели оказались больше действительных в {over_predicted_2} случаях\")\n",
    "print(f\"Предсказания второй модели оказались меньше действительных в {under_predicted_2} случаях\")"
   ],
   "id": "f1f277869b71bf9d",
   "outputs": [
    {
     "name": "stdout",
     "output_type": "stream",
     "text": [
      "Предсказания второй модели оказались больше действительных в 811778 случаях\n",
      "Предсказания второй модели оказались меньше действительных в 646866 случаях\n"
     ]
    }
   ],
   "execution_count": 60
  },
  {
   "cell_type": "markdown",
   "metadata": {
    "id": "QfTRmevE9sjZ"
   },
   "source": [
    "Сравните две модели заново. Согласуется ли полученный результат с подсчетом **RMSLE** ранее?"
   ],
   "id": "19c3782d77edb661"
  },
  {
   "metadata": {},
   "cell_type": "code",
   "outputs": [],
   "execution_count": null,
   "source": "",
   "id": "aa0666c7a2295a61"
  }
 ],
 "metadata": {
  "colab": {
   "collapsed_sections": [],
   "name": "HW_2.ipynb",
   "provenance": []
  },
  "kernelspec": {
   "display_name": "Python 3",
   "language": "python",
   "name": "python3"
  },
  "language_info": {
   "codemirror_mode": {
    "name": "ipython",
    "version": 3
   },
   "file_extension": ".py",
   "mimetype": "text/x-python",
   "name": "python",
   "nbconvert_exporter": "python",
   "pygments_lexer": "ipython3",
   "version": "3.7.3"
  }
 },
 "nbformat": 4,
 "nbformat_minor": 5
}
