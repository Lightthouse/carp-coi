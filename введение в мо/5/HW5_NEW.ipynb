{
 "cells": [
  {
   "cell_type": "markdown",
   "metadata": {},
   "source": [
    "К текущему моменту мы научились обучать простейшую линейную регрессию: причем научились пользоваться как готовыми методами из sklearn, так и реализовывать поиск решения оптимальных коэффициентов самостоятельно с помощью градиентного спуска.\n",
    "\n",
    "На последних занятиях мы узнали, что на практике часто приходится прибегать к некоторым хитростям, чтобы оценить, действительно ли модель отлично справляется со своей главной задачей - делать хорошие предсказания на новых данных в будущем, или, как еще говорят, в проде - после запуска.\n",
    "\n",
    "Для этого было введено понятие так называемой обобщающей способности модели. Оно помогает нам оценить, насколько наша модель подогналась под увиденные данные и насколько она окажется хороша на новых данных.\n",
    "\n",
    "Обобщающую способность мы научились оценивать с помощью метода Кросс-Валидации.\n",
    "\n"
   ],
   "id": "d20dd2f01c30f0c"
  },
  {
   "cell_type": "markdown",
   "metadata": {},
   "source": [
    "Построим для старой задачи с предсказанием длительности поездки в такси 2 модели линейной регрессии. Для каждой из них замерим качество на кросс-валидации и на тесте, заранее его отложив.\n",
    "\n",
    "Считается, что если для K-Fold Кросс-Валидации брать большие значения K (то есть большое количество сплитов для разбиения тренировочной выборки на тренировку-валидацию), то оценка среднеквадратической ошибки будет получаться более справедливой. Так, например, когда K оказывается максимальным, а именно равным количеству объектов в выборке (каждый раз в валидации у нас 1 новый объект), то такой метод Кросс-Валидации еще называют LeaveOneOut.\n",
    "\n",
    "Главная причина, почему мало где его используют, состоит в дороговизне такого метода. Например, в данной задаче в TAXI_train.csv лежит почти 1,2 млн. объектов. Тогда, чтобы замерить качество на LeaveOneOut валидации, нам пришлось бы обучить 1,2 млн. различных версий одной модели, что, конечно, не вписыватеся в рамки адекватного времени и прочих ресурсов.\n",
    "\n",
    "Поэтому выберем компромиссное значение в виде 20 фолдов для K-Fold Кросс-Валидации.\n",
    "\n",
    "Внимание! Для каждой из 2 моделей очевидно было бы справедливым замерять качество на тех же самых объектах, поэтому сплиты лучше зафиксировать сразу.\n",
    "\n",
    "P.S. Оптимизировать будем MSLE метрику. И сравнивать модели тоже будем по ней будем. Как из домашнего задания про метрики, только без корня! :)\n",
    "\n",
    "$$\\text{MSLE}(X, y, a) = \\frac{1}{\\ell}\\sum_{i=1}^{\\ell} \\big(\\log{(y_i + 1)} - \\log{(a(x_i) + 1)}\\big)^2$$\n"
   ],
   "id": "b69344740bfbdf6f"
  },
  {
   "cell_type": "markdown",
   "metadata": {},
   "source": [
    "### Модель №1 Для начала посчитаем ошибку на Кросс-Валидации и Тесте для нашей самой базовой модели до вычленения каких-либо признаков, а просто взяв все вещественные колонки."
   ],
   "id": "487ea3763144b86e"
  },
  {
   "cell_type": "code",
   "metadata": {
    "ExecuteTime": {
     "end_time": "2025-03-20T09:43:18.233829Z",
     "start_time": "2025-03-20T09:43:15.763494Z"
    }
   },
   "source": [
    "import pandas as pd\n",
    "import numpy as np\n",
    "import matplotlib.pyplot as plt\n",
    "from sklearn.linear_model import LinearRegression\n"
   ],
   "id": "f98349634f38f55b",
   "outputs": [],
   "execution_count": 1
  },
  {
   "cell_type": "code",
   "metadata": {
    "ExecuteTime": {
     "end_time": "2025-03-20T09:43:25.692245Z",
     "start_time": "2025-03-20T09:43:20.268630Z"
    }
   },
   "source": [
    "initial_data = pd.read_csv('initial_data.csv', index_col='id')\n",
    "\n",
    "initial_cols = ['vendor_id', 'passenger_count', 'pickup_longitude',\n",
    "                'pickup_latitude', 'dropoff_longitude', 'dropoff_latitude',\n",
    "                'trip_duration']\n",
    "\n",
    "initial_data = initial_data[initial_cols]"
   ],
   "id": "9e48439077a3a818",
   "outputs": [],
   "execution_count": 2
  },
  {
   "metadata": {
    "ExecuteTime": {
     "end_time": "2025-03-20T09:43:37.741892Z",
     "start_time": "2025-03-20T09:43:37.717431Z"
    }
   },
   "cell_type": "code",
   "source": "initial_data.head()",
   "id": "b3b1bf8902818c4d",
   "outputs": [
    {
     "data": {
      "text/plain": [
       "           vendor_id  passenger_count  pickup_longitude  pickup_latitude  \\\n",
       "id                                                                         \n",
       "id2875421          2                1        -73.982155        40.767937   \n",
       "id2377394          1                1        -73.980415        40.738564   \n",
       "id3858529          2                1        -73.979027        40.763939   \n",
       "id3504673          2                1        -74.010040        40.719971   \n",
       "id2181028          2                1        -73.973053        40.793209   \n",
       "\n",
       "           dropoff_longitude  dropoff_latitude  trip_duration  \n",
       "id                                                             \n",
       "id2875421         -73.964630         40.765602          455.0  \n",
       "id2377394         -73.999481         40.731152          663.0  \n",
       "id3858529         -74.005333         40.710087         2124.0  \n",
       "id3504673         -74.012268         40.706718          429.0  \n",
       "id2181028         -73.972923         40.782520          435.0  "
      ],
      "text/html": [
       "<div>\n",
       "<style scoped>\n",
       "    .dataframe tbody tr th:only-of-type {\n",
       "        vertical-align: middle;\n",
       "    }\n",
       "\n",
       "    .dataframe tbody tr th {\n",
       "        vertical-align: top;\n",
       "    }\n",
       "\n",
       "    .dataframe thead th {\n",
       "        text-align: right;\n",
       "    }\n",
       "</style>\n",
       "<table border=\"1\" class=\"dataframe\">\n",
       "  <thead>\n",
       "    <tr style=\"text-align: right;\">\n",
       "      <th></th>\n",
       "      <th>vendor_id</th>\n",
       "      <th>passenger_count</th>\n",
       "      <th>pickup_longitude</th>\n",
       "      <th>pickup_latitude</th>\n",
       "      <th>dropoff_longitude</th>\n",
       "      <th>dropoff_latitude</th>\n",
       "      <th>trip_duration</th>\n",
       "    </tr>\n",
       "    <tr>\n",
       "      <th>id</th>\n",
       "      <th></th>\n",
       "      <th></th>\n",
       "      <th></th>\n",
       "      <th></th>\n",
       "      <th></th>\n",
       "      <th></th>\n",
       "      <th></th>\n",
       "    </tr>\n",
       "  </thead>\n",
       "  <tbody>\n",
       "    <tr>\n",
       "      <th>id2875421</th>\n",
       "      <td>2</td>\n",
       "      <td>1</td>\n",
       "      <td>-73.982155</td>\n",
       "      <td>40.767937</td>\n",
       "      <td>-73.964630</td>\n",
       "      <td>40.765602</td>\n",
       "      <td>455.0</td>\n",
       "    </tr>\n",
       "    <tr>\n",
       "      <th>id2377394</th>\n",
       "      <td>1</td>\n",
       "      <td>1</td>\n",
       "      <td>-73.980415</td>\n",
       "      <td>40.738564</td>\n",
       "      <td>-73.999481</td>\n",
       "      <td>40.731152</td>\n",
       "      <td>663.0</td>\n",
       "    </tr>\n",
       "    <tr>\n",
       "      <th>id3858529</th>\n",
       "      <td>2</td>\n",
       "      <td>1</td>\n",
       "      <td>-73.979027</td>\n",
       "      <td>40.763939</td>\n",
       "      <td>-74.005333</td>\n",
       "      <td>40.710087</td>\n",
       "      <td>2124.0</td>\n",
       "    </tr>\n",
       "    <tr>\n",
       "      <th>id3504673</th>\n",
       "      <td>2</td>\n",
       "      <td>1</td>\n",
       "      <td>-74.010040</td>\n",
       "      <td>40.719971</td>\n",
       "      <td>-74.012268</td>\n",
       "      <td>40.706718</td>\n",
       "      <td>429.0</td>\n",
       "    </tr>\n",
       "    <tr>\n",
       "      <th>id2181028</th>\n",
       "      <td>2</td>\n",
       "      <td>1</td>\n",
       "      <td>-73.973053</td>\n",
       "      <td>40.793209</td>\n",
       "      <td>-73.972923</td>\n",
       "      <td>40.782520</td>\n",
       "      <td>435.0</td>\n",
       "    </tr>\n",
       "  </tbody>\n",
       "</table>\n",
       "</div>"
      ]
     },
     "execution_count": 3,
     "metadata": {},
     "output_type": "execute_result"
    }
   ],
   "execution_count": 3
  },
  {
   "cell_type": "markdown",
   "metadata": {},
   "source": [
    "### ТрюК!"
   ],
   "id": "fb05988aa81a41bf"
  },
  {
   "cell_type": "code",
   "metadata": {
    "ExecuteTime": {
     "end_time": "2025-03-20T09:47:48.222276Z",
     "start_time": "2025-03-20T09:47:48.056931Z"
    }
   },
   "source": [
    "### Замерять будем MSLE. Можно показать, что для оптимизации MSLE,\n",
    "### Достаточно логарифмировать таргетную переменную, \n",
    "### а потом оптимизировать привычные MSE\n",
    "import numpy as np\n",
    "\n",
    "initial_data = initial_data.assign(log_trip_duration=np.log1p(initial_data['trip_duration']))\n",
    "initial_data = initial_data.drop('trip_duration', axis=1)"
   ],
   "id": "7e3c82a983530b44",
   "outputs": [],
   "execution_count": 5
  },
  {
   "cell_type": "markdown",
   "metadata": {},
   "source": [
    "### Объяснение:\n",
    "\n",
    "Пусть имеем модель $a(x)$, обученную на MSE от $y$:\n",
    "$$\n",
    "\\text{MSE}(X, y, a) = \\frac{1}{\\ell}\\sum_{i=1}^{\\ell} \\big(y_i - a(x_i)\\big)^2 \\rightarrow min\n",
    "$$\n",
    "\n",
    "Также представим модель $a^*(x)$, обученную на MSE от $\\log{(y + 1)}$:\n",
    "$$\n",
    "\\text{MSE}(X, \\log{(y+1)}, a^*) = \\frac{1}{\\ell}\\sum_{i=1}^{\\ell} \\big(\\log{(y_i + 1)} - a^*(x_i)\\big)^2 \\rightarrow min\n",
    "$$\n",
    "\n",
    "Так как вторая модель старается аппроксимироваться ответы в виде $a^*(x) \\approx \\log{(y+1)}$, то для того, чтобы получить изначальные таргеты, необходимо выходы $a^*(x)$ проэкспоненцировать в виде следующего отношения: $a(x) = e^{a^*(x)} - 1$, то есть $a^*(x) = \\log{(a(x) + 1)}$, где $a^*(x)$ дает логарифмические выходы, а $a(x)$ - изначальные. Подставим данное соотношение в MSE выше, получим:\n",
    "\n",
    "$$\n",
    "\\text{MSE}(X, \\log{(y+1)}, \\log{(a(x) + 1)}) = \\frac{1}{\\ell}\\sum_{i=1}^{\\ell} \\big(\\log{(y_i + 1)} - \\log{(a(x_i) + 1)}\\big)^2 \\rightarrow min\n",
    "$$\n",
    "\n",
    "А это в точности MSLE от $y$:\n",
    "\n",
    "$$\n",
    "\\text{MSLE}(X, y, a) = \\frac{1}{\\ell}\\sum_{i=1}^{\\ell} \\big(\\log{(y_i + 1)} - \\log{(a(x_i) + 1)}\\big)^2 \\rightarrow min\n",
    "$$"
   ],
   "id": "78afe87a9632f181"
  },
  {
   "cell_type": "code",
   "metadata": {
    "ExecuteTime": {
     "end_time": "2025-03-20T09:47:52.051814Z",
     "start_time": "2025-03-20T09:47:50.999377Z"
    }
   },
   "source": [
    "### Выделим test\n",
    "\n",
    "from sklearn.model_selection import train_test_split\n",
    "\n",
    "X = initial_data.drop('log_trip_duration', axis=1)\n",
    "y = initial_data['log_trip_duration']\n",
    "\n",
    "X_train, X_test, y_train, y_test = train_test_split(X, y,\n",
    "                                                    test_size=0.2, \n",
    "                                                    random_state=42)"
   ],
   "id": "7b612a350e1bb18",
   "outputs": [],
   "execution_count": 6
  },
  {
   "cell_type": "code",
   "metadata": {
    "ExecuteTime": {
     "end_time": "2025-03-20T09:49:21.339507Z",
     "start_time": "2025-03-20T09:49:21.333488Z"
    }
   },
   "source": [
    "### Применим K-Fold на оставшуюся валидационную часть X_train, y_train\n",
    "\n",
    "from sklearn.model_selection import KFold\n",
    "\n",
    "splitter = KFold(n_splits=20, shuffle=True, random_state=33)"
   ],
   "id": "435cb9e244a9b09c",
   "outputs": [],
   "execution_count": 7
  },
  {
   "metadata": {
    "ExecuteTime": {
     "end_time": "2025-03-20T10:04:41.646824Z",
     "start_time": "2025-03-20T10:04:41.639859Z"
    }
   },
   "cell_type": "code",
   "source": "m = splitter.split(X_train)",
   "id": "f9c29177a72366c6",
   "outputs": [],
   "execution_count": 10
  },
  {
   "metadata": {
    "ExecuteTime": {
     "end_time": "2025-03-20T10:05:23.361735Z",
     "start_time": "2025-03-20T10:05:23.348848Z"
    }
   },
   "cell_type": "code",
   "source": "t= next(m)",
   "id": "ddf762be7683259",
   "outputs": [],
   "execution_count": 12
  },
  {
   "metadata": {
    "ExecuteTime": {
     "end_time": "2025-03-20T10:08:41.481280Z",
     "start_time": "2025-03-20T10:08:41.169064Z"
    }
   },
   "cell_type": "code",
   "source": "y.iloc[t[0]]",
   "id": "2e7682aa963ba34e",
   "outputs": [
    {
     "data": {
      "text/plain": [
       "id\n",
       "id2875421    6.122493\n",
       "id2377394    6.498282\n",
       "id3858529    7.661527\n",
       "id3504673    6.063785\n",
       "id2181028    6.077642\n",
       "               ...   \n",
       "id0050174    4.234107\n",
       "id1632777    6.588926\n",
       "id1513519    6.109248\n",
       "id0184788    8.021913\n",
       "id0712652    6.576470\n",
       "Name: log_trip_duration, Length: 1108569, dtype: float64"
      ]
     },
     "execution_count": 25,
     "metadata": {},
     "output_type": "execute_result"
    }
   ],
   "execution_count": 25
  },
  {
   "metadata": {
    "ExecuteTime": {
     "end_time": "2025-03-20T10:31:17.799044Z",
     "start_time": "2025-03-20T10:30:57.551854Z"
    }
   },
   "cell_type": "code",
   "source": [
    "### Замерьте качество на кросс-валидации!\n",
    "from sklearn.metrics import mean_squared_error\n",
    "mse_test_imp = []\n",
    "mse_train_imp = []\n",
    "\n",
    "mse_test_lib = []\n",
    "mse_train_lib = []\n",
    "\n",
    "for train_index, test_index in splitter.split(X_train):\n",
    "    X_fold_train, X_fold_test = X_train.iloc[train_index], X_train.iloc[test_index]\n",
    "    y_fold_train, y_fold_test = y_train.iloc[train_index], y_train.iloc[test_index]\n",
    "\n",
    "    model = LinearRegression()\n",
    "    model.fit(X_fold_train, y_fold_train)\n",
    "\n",
    "    # Считает библиотека\n",
    "    test_lib_error = mean_squared_error(y_fold_test, model.predict(X_fold_test))\n",
    "    train_lib_error = mean_squared_error(y_fold_train, model.predict(X_fold_train))\n",
    "\n",
    "    mse_test_lib.append(test_lib_error)\n",
    "    mse_train_lib.append(train_lib_error)\n",
    "\n",
    "    # Считаем мы сами\n",
    "    test_imp_error = np.mean(np.square(y_fold_test - model.predict(X_fold_test)))\n",
    "    train_imp_error = np.mean(np.square(y_fold_train - model.predict(X_fold_train)))\n",
    "\n",
    "    mse_test_imp.append(test_imp_error)\n",
    "    mse_train_imp.append(train_imp_error)\n"
   ],
   "id": "95e0f22899bdfafa",
   "outputs": [],
   "execution_count": 30
  },
  {
   "cell_type": "code",
   "metadata": {
    "ExecuteTime": {
     "end_time": "2025-03-20T10:35:31.797372Z",
     "start_time": "2025-03-20T10:35:30.927955Z"
    }
   },
   "source": [
    "### Теперь построим модель на всей тренировочной выборке\n",
    "### и замерим качество на тесте!\n",
    "model = LinearRegression()\n",
    "model.fit(X_train, y_train)\n",
    "\n",
    "test_imp_error = np.mean(np.square(y_test - model.predict(X_test)))\n",
    "train_imp_error = np.mean(np.square(y_train - model.predict(X_train)))\n",
    "\n",
    "test_lib_error = mean_squared_error(y_test, model.predict(X_test))\n",
    "train_lib_error = mean_squared_error(y_train, model.predict(X_train))"
   ],
   "id": "f54a884235c8f9cc",
   "outputs": [],
   "execution_count": 31
  },
  {
   "cell_type": "code",
   "metadata": {
    "ExecuteTime": {
     "end_time": "2025-03-20T10:39:12.978465Z",
     "start_time": "2025-03-20T10:39:12.970866Z"
    }
   },
   "source": [
    "### Укажите в ответе на задание 4 среднее качество моделей на валидационных выборках\n",
    "### и качество модели, обученной на полной тренировочной выборке, на тестовой выборке.\n",
    "### В качестве разделителя используйте точку, ответ округлите до тысячных.\n",
    "\n",
    "#  whole\n",
    "print(round(test_imp_error, 3), round(train_imp_error, 3))\n",
    "\n",
    "# cross\n",
    "print(np.mean(mse_test_imp).round(3),\n",
    "      np.mean(mse_train_imp).round(3))\n",
    "\n"
   ],
   "id": "e6f78f9b86b2aa44",
   "outputs": [
    {
     "name": "stdout",
     "output_type": "stream",
     "text": [
      "0.606 0.609\n",
      "0.613 0.609\n"
     ]
    }
   ],
   "execution_count": 41
  },
  {
   "cell_type": "markdown",
   "metadata": {},
   "source": [
    "### Модель №2. Проделаем все то же самое, только для модели с более осознанными признаками, которые удалось получить ранее"
   ],
   "id": "6f1f8e16b8dd5cb6"
  },
  {
   "cell_type": "code",
   "metadata": {
    "ExecuteTime": {
     "end_time": "2025-03-20T10:44:25.763683Z",
     "start_time": "2025-03-20T10:44:23.150813Z"
    }
   },
   "source": [
    "processed_data = pd.read_csv('processed_data.csv', index_col='id')"
   ],
   "id": "57f9075d557e22d8",
   "outputs": [],
   "execution_count": 44
  },
  {
   "cell_type": "code",
   "metadata": {
    "ExecuteTime": {
     "end_time": "2025-03-20T10:44:27.744726Z",
     "start_time": "2025-03-20T10:44:27.728095Z"
    }
   },
   "source": [
    "processed_data.head()"
   ],
   "id": "70607dee72833fdf",
   "outputs": [
    {
     "data": {
      "text/plain": [
       "           vendor_id  passenger_count  store_and_fwd_flag  trip_duration  \\\n",
       "id                                                                         \n",
       "id2875421          1       930.399753                   0          455.0   \n",
       "id2377394          0       930.399753                   0          663.0   \n",
       "id3858529          1       930.399753                   0         2124.0   \n",
       "id3504673          1       930.399753                   0          429.0   \n",
       "id2181028          1       930.399753                   0          435.0   \n",
       "\n",
       "           distance_km  \n",
       "id                      \n",
       "id2875421     1.500479  \n",
       "id2377394     1.807119  \n",
       "id3858529     6.392080  \n",
       "id3504673     1.487155  \n",
       "id2181028     1.189925  "
      ],
      "text/html": [
       "<div>\n",
       "<style scoped>\n",
       "    .dataframe tbody tr th:only-of-type {\n",
       "        vertical-align: middle;\n",
       "    }\n",
       "\n",
       "    .dataframe tbody tr th {\n",
       "        vertical-align: top;\n",
       "    }\n",
       "\n",
       "    .dataframe thead th {\n",
       "        text-align: right;\n",
       "    }\n",
       "</style>\n",
       "<table border=\"1\" class=\"dataframe\">\n",
       "  <thead>\n",
       "    <tr style=\"text-align: right;\">\n",
       "      <th></th>\n",
       "      <th>vendor_id</th>\n",
       "      <th>passenger_count</th>\n",
       "      <th>store_and_fwd_flag</th>\n",
       "      <th>trip_duration</th>\n",
       "      <th>distance_km</th>\n",
       "    </tr>\n",
       "    <tr>\n",
       "      <th>id</th>\n",
       "      <th></th>\n",
       "      <th></th>\n",
       "      <th></th>\n",
       "      <th></th>\n",
       "      <th></th>\n",
       "    </tr>\n",
       "  </thead>\n",
       "  <tbody>\n",
       "    <tr>\n",
       "      <th>id2875421</th>\n",
       "      <td>1</td>\n",
       "      <td>930.399753</td>\n",
       "      <td>0</td>\n",
       "      <td>455.0</td>\n",
       "      <td>1.500479</td>\n",
       "    </tr>\n",
       "    <tr>\n",
       "      <th>id2377394</th>\n",
       "      <td>0</td>\n",
       "      <td>930.399753</td>\n",
       "      <td>0</td>\n",
       "      <td>663.0</td>\n",
       "      <td>1.807119</td>\n",
       "    </tr>\n",
       "    <tr>\n",
       "      <th>id3858529</th>\n",
       "      <td>1</td>\n",
       "      <td>930.399753</td>\n",
       "      <td>0</td>\n",
       "      <td>2124.0</td>\n",
       "      <td>6.392080</td>\n",
       "    </tr>\n",
       "    <tr>\n",
       "      <th>id3504673</th>\n",
       "      <td>1</td>\n",
       "      <td>930.399753</td>\n",
       "      <td>0</td>\n",
       "      <td>429.0</td>\n",
       "      <td>1.487155</td>\n",
       "    </tr>\n",
       "    <tr>\n",
       "      <th>id2181028</th>\n",
       "      <td>1</td>\n",
       "      <td>930.399753</td>\n",
       "      <td>0</td>\n",
       "      <td>435.0</td>\n",
       "      <td>1.189925</td>\n",
       "    </tr>\n",
       "  </tbody>\n",
       "</table>\n",
       "</div>"
      ]
     },
     "execution_count": 45,
     "metadata": {},
     "output_type": "execute_result"
    }
   ],
   "execution_count": 45
  },
  {
   "cell_type": "code",
   "metadata": {
    "ExecuteTime": {
     "end_time": "2025-03-20T10:44:35.778158Z",
     "start_time": "2025-03-20T10:44:35.684406Z"
    }
   },
   "source": [
    "### Замерять будем MSLE. Можно показать, что для оптимизации MSLE,\n",
    "### Достаточно логарифмировать таргетную переменную, \n",
    "### а потом оптимизировать привычные MSE\n",
    "import numpy as np\n",
    "\n",
    "processed_data = processed_data.assign(log_trip_duration=np.log1p(processed_data['trip_duration']))\n",
    "processed_data = processed_data.drop('trip_duration', axis=1)"
   ],
   "id": "8682c2861fbb5d03",
   "outputs": [],
   "execution_count": 46
  },
  {
   "cell_type": "code",
   "metadata": {
    "ExecuteTime": {
     "end_time": "2025-03-20T10:44:38.737832Z",
     "start_time": "2025-03-20T10:44:38.708573Z"
    }
   },
   "source": [
    "X_2 = processed_data.drop('log_trip_duration', axis=1)\n",
    "y_2 = processed_data['log_trip_duration']"
   ],
   "id": "4c1ff711eef21481",
   "outputs": [],
   "execution_count": 47
  },
  {
   "cell_type": "code",
   "metadata": {
    "ExecuteTime": {
     "end_time": "2025-03-20T10:47:36.252861Z",
     "start_time": "2025-03-20T10:47:34.105565Z"
    }
   },
   "source": [
    "### Важно! Когда сравниваем модели по их качеству\n",
    "### на валидации и на тесте, не шаффлим данные заново!\n",
    "\n",
    "test_indexes = X_test.index\n",
    "train_indexes = X_train.index\n",
    "\n",
    "X_train_2 = X_2[X_2.index.isin(train_indexes)]\n",
    "y_train_2 = y_2[y_2.index.isin(train_indexes)]\n",
    "\n",
    "X_test_2 = X_2[X_2.index.isin(test_indexes)]\n",
    "y_test_2 = y_2[y_2.index.isin(test_indexes)]"
   ],
   "id": "eb45e35e530dc069",
   "outputs": [],
   "execution_count": 49
  },
  {
   "cell_type": "code",
   "metadata": {
    "ExecuteTime": {
     "end_time": "2025-03-20T10:51:45.189971Z",
     "start_time": "2025-03-20T10:51:32.317752Z"
    }
   },
   "source": [
    "### Замерьте качество на кросс-валидации!\n",
    "loss_arr = []\n",
    "for train_index, test_index in splitter.split(X_train_2):\n",
    "    X_fold_train, X_fold_test = X_train_2.iloc[train_index], X_train_2.iloc[test_index]\n",
    "    y_fold_train, y_fold_test = y_train_2.iloc[train_index], y_train_2.iloc[test_index]\n",
    "\n",
    "    model = LinearRegression()\n",
    "    model.fit(X_fold_train, y_fold_train)\n",
    "    fold_loss = mean_squared_error(y_fold_test, model.predict(X_fold_test))\n",
    "    loss_arr.append(fold_loss)\n",
    "\n",
    "cross_loss = np.mean(loss_arr)"
   ],
   "id": "12e4f17d543a4e4f",
   "outputs": [],
   "execution_count": 52
  },
  {
   "cell_type": "code",
   "metadata": {
    "ExecuteTime": {
     "end_time": "2025-03-20T10:47:39.458742Z",
     "start_time": "2025-03-20T10:47:38.861299Z"
    }
   },
   "source": [
    "### Теперь построим модель и замерим качество на тесте!\n",
    "model = LinearRegression()\n",
    "model.fit(X_train_2, y_train_2)\n",
    "\n",
    "loss = mean_squared_error(y_test_2, model.predict(X_test_2))"
   ],
   "id": "7f6693ffb6fd1239",
   "outputs": [],
   "execution_count": 50
  },
  {
   "cell_type": "code",
   "metadata": {
    "ExecuteTime": {
     "end_time": "2025-03-20T10:53:49.120673Z",
     "start_time": "2025-03-20T10:53:49.110720Z"
    }
   },
   "source": [
    "### Укажите в ответе на задание 5 среднее качество моделей на валидационных выборках\n",
    "### и качество модели, обученной на полной тренировочной выборке, на тестовой выборке.\n",
    "### В качестве разделителя используйте точку, ответ округлите до тысячных.\n",
    "print('whole: ', round(loss,3), '\\ncorss: ', round(cross_loss,3))"
   ],
   "id": "f04b5ab4541c6797",
   "outputs": [
    {
     "name": "stdout",
     "output_type": "stream",
     "text": [
      "whole:  0.407 \n",
      "corss:  0.431\n"
     ]
    }
   ],
   "execution_count": 54
  },
  {
   "cell_type": "markdown",
   "metadata": {},
   "source": [
    "### Какую модель среди двух стоило бы выбрать? Помогла ли нам базовая обработка признаков с первых уроков? "
   ],
   "id": "70b4b1ca55d18f57"
  }
 ],
 "metadata": {
  "kernelspec": {
   "display_name": "Python 3",
   "language": "python",
   "name": "python3"
  },
  "language_info": {
   "codemirror_mode": {
    "name": "ipython",
    "version": 3
   },
   "file_extension": ".py",
   "mimetype": "text/x-python",
   "name": "python",
   "nbconvert_exporter": "python",
   "pygments_lexer": "ipython3",
   "version": "3.7.3"
  }
 },
 "nbformat": 4,
 "nbformat_minor": 5
}
