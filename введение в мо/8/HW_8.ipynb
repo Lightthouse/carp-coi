{
 "cells": [
  {
   "cell_type": "markdown",
   "metadata": {},
   "source": [
    "### В данной домашней работе Вам предстоит отработать следующие 2 навыка: работа с пропущенными значениями и анализ выбросов."
   ],
   "id": "5c70173eae01cfbf"
  },
  {
   "cell_type": "code",
   "metadata": {
    "ExecuteTime": {
     "end_time": "2025-03-27T09:59:42.399693Z",
     "start_time": "2025-03-27T09:59:33.488432Z"
    }
   },
   "source": [
    "import numpy as np\n",
    "import pandas as pd\n",
    "import matplotlib.pyplot as plt\n",
    "from sklearn.linear_model import LinearRegression\n",
    "from sklearn.feature_extraction.text import TfidfVectorizer\n",
    "from sklearn.metrics import mean_squared_error\n",
    "\n",
    "data = pd.read_csv('processed_data_with_new_features.csv', index_col='id')"
   ],
   "id": "1e7279abd062e661",
   "outputs": [],
   "execution_count": 34
  },
  {
   "cell_type": "code",
   "metadata": {
    "ExecuteTime": {
     "end_time": "2025-03-27T09:18:51.143255Z",
     "start_time": "2025-03-27T09:18:51.094696Z"
    }
   },
   "source": [
    "data.head()"
   ],
   "id": "136151fe9da05e8",
   "outputs": [
    {
     "data": {
      "text/plain": [
       "           vendor_id  passenger_count  store_and_fwd_flag  distance_km  \\\n",
       "id                                                                       \n",
       "id2875421          1       930.399753                   0     1.500479   \n",
       "id2377394          0       930.399753                   0     1.807119   \n",
       "id3858529          1              NaN                   0     6.392080   \n",
       "id3504673          1              NaN                   0     1.487155   \n",
       "id2181028          1       930.399753                   0     1.189925   \n",
       "\n",
       "           log_trip_duration  anomaly  traffic_jam  day_of_week_1  \\\n",
       "id                                                                  \n",
       "id2875421           6.122493        0            0              0   \n",
       "id2377394           6.498282        0            0              0   \n",
       "id3858529           7.661527        0            1              1   \n",
       "id3504673           6.063785        0            0              0   \n",
       "id2181028           6.077642        0            0              0   \n",
       "\n",
       "           day_of_week_2  day_of_week_3  ...  hour_19  hour_20  hour_21  \\\n",
       "id                                       ...                              \n",
       "id2875421              0              0  ...        0        0        0   \n",
       "id2377394              0              0  ...        0        0        0   \n",
       "id3858529              0              0  ...        0        0        0   \n",
       "id3504673              1              0  ...        1        0        0   \n",
       "id2181028              0              0  ...        0        0        0   \n",
       "\n",
       "           hour_22  hour_23  month_2  month_3  month_4  month_5  month_6  \n",
       "id                                                                        \n",
       "id2875421        0        0        0        1        0        0        0  \n",
       "id2377394        0        0        0        0        0        0        1  \n",
       "id3858529        0        0        0        0        0        0        0  \n",
       "id3504673        0        0        0        0        1        0        0  \n",
       "id2181028        0        0        0        1        0        0        0  \n",
       "\n",
       "[5 rows x 41 columns]"
      ],
      "text/html": [
       "<div>\n",
       "<style scoped>\n",
       "    .dataframe tbody tr th:only-of-type {\n",
       "        vertical-align: middle;\n",
       "    }\n",
       "\n",
       "    .dataframe tbody tr th {\n",
       "        vertical-align: top;\n",
       "    }\n",
       "\n",
       "    .dataframe thead th {\n",
       "        text-align: right;\n",
       "    }\n",
       "</style>\n",
       "<table border=\"1\" class=\"dataframe\">\n",
       "  <thead>\n",
       "    <tr style=\"text-align: right;\">\n",
       "      <th></th>\n",
       "      <th>vendor_id</th>\n",
       "      <th>passenger_count</th>\n",
       "      <th>store_and_fwd_flag</th>\n",
       "      <th>distance_km</th>\n",
       "      <th>log_trip_duration</th>\n",
       "      <th>anomaly</th>\n",
       "      <th>traffic_jam</th>\n",
       "      <th>day_of_week_1</th>\n",
       "      <th>day_of_week_2</th>\n",
       "      <th>day_of_week_3</th>\n",
       "      <th>...</th>\n",
       "      <th>hour_19</th>\n",
       "      <th>hour_20</th>\n",
       "      <th>hour_21</th>\n",
       "      <th>hour_22</th>\n",
       "      <th>hour_23</th>\n",
       "      <th>month_2</th>\n",
       "      <th>month_3</th>\n",
       "      <th>month_4</th>\n",
       "      <th>month_5</th>\n",
       "      <th>month_6</th>\n",
       "    </tr>\n",
       "    <tr>\n",
       "      <th>id</th>\n",
       "      <th></th>\n",
       "      <th></th>\n",
       "      <th></th>\n",
       "      <th></th>\n",
       "      <th></th>\n",
       "      <th></th>\n",
       "      <th></th>\n",
       "      <th></th>\n",
       "      <th></th>\n",
       "      <th></th>\n",
       "      <th></th>\n",
       "      <th></th>\n",
       "      <th></th>\n",
       "      <th></th>\n",
       "      <th></th>\n",
       "      <th></th>\n",
       "      <th></th>\n",
       "      <th></th>\n",
       "      <th></th>\n",
       "      <th></th>\n",
       "      <th></th>\n",
       "    </tr>\n",
       "  </thead>\n",
       "  <tbody>\n",
       "    <tr>\n",
       "      <th>id2875421</th>\n",
       "      <td>1</td>\n",
       "      <td>930.399753</td>\n",
       "      <td>0</td>\n",
       "      <td>1.500479</td>\n",
       "      <td>6.122493</td>\n",
       "      <td>0</td>\n",
       "      <td>0</td>\n",
       "      <td>0</td>\n",
       "      <td>0</td>\n",
       "      <td>0</td>\n",
       "      <td>...</td>\n",
       "      <td>0</td>\n",
       "      <td>0</td>\n",
       "      <td>0</td>\n",
       "      <td>0</td>\n",
       "      <td>0</td>\n",
       "      <td>0</td>\n",
       "      <td>1</td>\n",
       "      <td>0</td>\n",
       "      <td>0</td>\n",
       "      <td>0</td>\n",
       "    </tr>\n",
       "    <tr>\n",
       "      <th>id2377394</th>\n",
       "      <td>0</td>\n",
       "      <td>930.399753</td>\n",
       "      <td>0</td>\n",
       "      <td>1.807119</td>\n",
       "      <td>6.498282</td>\n",
       "      <td>0</td>\n",
       "      <td>0</td>\n",
       "      <td>0</td>\n",
       "      <td>0</td>\n",
       "      <td>0</td>\n",
       "      <td>...</td>\n",
       "      <td>0</td>\n",
       "      <td>0</td>\n",
       "      <td>0</td>\n",
       "      <td>0</td>\n",
       "      <td>0</td>\n",
       "      <td>0</td>\n",
       "      <td>0</td>\n",
       "      <td>0</td>\n",
       "      <td>0</td>\n",
       "      <td>1</td>\n",
       "    </tr>\n",
       "    <tr>\n",
       "      <th>id3858529</th>\n",
       "      <td>1</td>\n",
       "      <td>NaN</td>\n",
       "      <td>0</td>\n",
       "      <td>6.392080</td>\n",
       "      <td>7.661527</td>\n",
       "      <td>0</td>\n",
       "      <td>1</td>\n",
       "      <td>1</td>\n",
       "      <td>0</td>\n",
       "      <td>0</td>\n",
       "      <td>...</td>\n",
       "      <td>0</td>\n",
       "      <td>0</td>\n",
       "      <td>0</td>\n",
       "      <td>0</td>\n",
       "      <td>0</td>\n",
       "      <td>0</td>\n",
       "      <td>0</td>\n",
       "      <td>0</td>\n",
       "      <td>0</td>\n",
       "      <td>0</td>\n",
       "    </tr>\n",
       "    <tr>\n",
       "      <th>id3504673</th>\n",
       "      <td>1</td>\n",
       "      <td>NaN</td>\n",
       "      <td>0</td>\n",
       "      <td>1.487155</td>\n",
       "      <td>6.063785</td>\n",
       "      <td>0</td>\n",
       "      <td>0</td>\n",
       "      <td>0</td>\n",
       "      <td>1</td>\n",
       "      <td>0</td>\n",
       "      <td>...</td>\n",
       "      <td>1</td>\n",
       "      <td>0</td>\n",
       "      <td>0</td>\n",
       "      <td>0</td>\n",
       "      <td>0</td>\n",
       "      <td>0</td>\n",
       "      <td>0</td>\n",
       "      <td>1</td>\n",
       "      <td>0</td>\n",
       "      <td>0</td>\n",
       "    </tr>\n",
       "    <tr>\n",
       "      <th>id2181028</th>\n",
       "      <td>1</td>\n",
       "      <td>930.399753</td>\n",
       "      <td>0</td>\n",
       "      <td>1.189925</td>\n",
       "      <td>6.077642</td>\n",
       "      <td>0</td>\n",
       "      <td>0</td>\n",
       "      <td>0</td>\n",
       "      <td>0</td>\n",
       "      <td>0</td>\n",
       "      <td>...</td>\n",
       "      <td>0</td>\n",
       "      <td>0</td>\n",
       "      <td>0</td>\n",
       "      <td>0</td>\n",
       "      <td>0</td>\n",
       "      <td>0</td>\n",
       "      <td>1</td>\n",
       "      <td>0</td>\n",
       "      <td>0</td>\n",
       "      <td>0</td>\n",
       "    </tr>\n",
       "  </tbody>\n",
       "</table>\n",
       "<p>5 rows × 41 columns</p>\n",
       "</div>"
      ]
     },
     "execution_count": 2,
     "metadata": {},
     "output_type": "execute_result"
    }
   ],
   "execution_count": 2
  },
  {
   "cell_type": "markdown",
   "metadata": {},
   "source": [
    "Никудышный гном случайно пролил кофе на папку с данными и кодом. К несчастью, из-за этого они с братьями потеряли кучу информации в столбиках **passenger_count** и **distance_km**."
   ],
   "id": "1958e70d1721720e"
  },
  {
   "cell_type": "code",
   "metadata": {
    "ExecuteTime": {
     "end_time": "2025-03-27T09:21:50.858668Z",
     "start_time": "2025-03-27T09:21:50.762657Z"
    }
   },
   "source": [
    "### Выведите количество пропусков в данных колонках\n",
    "### На всякий случай, проверьте целостность данных в остальных\n",
    "\n",
    "for column in data.columns:\n",
    "    print(column, ': ' ,data[column].isna().sum())"
   ],
   "id": "facc1b3d839458a4",
   "outputs": [
    {
     "name": "stdout",
     "output_type": "stream",
     "text": [
      "vendor_id :  0\n",
      "passenger_count :  145864\n",
      "store_and_fwd_flag :  0\n",
      "distance_km :  145864\n",
      "log_trip_duration :  0\n",
      "anomaly :  0\n",
      "traffic_jam :  0\n",
      "day_of_week_1 :  0\n",
      "day_of_week_2 :  0\n",
      "day_of_week_3 :  0\n",
      "day_of_week_4 :  0\n",
      "day_of_week_5 :  0\n",
      "day_of_week_6 :  0\n",
      "hour_1 :  0\n",
      "hour_2 :  0\n",
      "hour_3 :  0\n",
      "hour_4 :  0\n",
      "hour_5 :  0\n",
      "hour_6 :  0\n",
      "hour_7 :  0\n",
      "hour_8 :  0\n",
      "hour_9 :  0\n",
      "hour_10 :  0\n",
      "hour_11 :  0\n",
      "hour_12 :  0\n",
      "hour_13 :  0\n",
      "hour_14 :  0\n",
      "hour_15 :  0\n",
      "hour_16 :  0\n",
      "hour_17 :  0\n",
      "hour_18 :  0\n",
      "hour_19 :  0\n",
      "hour_20 :  0\n",
      "hour_21 :  0\n",
      "hour_22 :  0\n",
      "hour_23 :  0\n",
      "month_2 :  0\n",
      "month_3 :  0\n",
      "month_4 :  0\n",
      "month_5 :  0\n",
      "month_6 :  0\n"
     ]
    }
   ],
   "execution_count": 9
  },
  {
   "metadata": {
    "ExecuteTime": {
     "end_time": "2025-03-27T10:00:32.050354Z",
     "start_time": "2025-03-27T10:00:31.968158Z"
    }
   },
   "cell_type": "code",
   "source": "data.isna().sum()",
   "id": "a31900c1ff15518",
   "outputs": [
    {
     "data": {
      "text/plain": [
       "vendor_id                  0\n",
       "passenger_count       145864\n",
       "store_and_fwd_flag         0\n",
       "distance_km           145864\n",
       "log_trip_duration          0\n",
       "anomaly                    0\n",
       "traffic_jam                0\n",
       "day_of_week_1              0\n",
       "day_of_week_2              0\n",
       "day_of_week_3              0\n",
       "day_of_week_4              0\n",
       "day_of_week_5              0\n",
       "day_of_week_6              0\n",
       "hour_1                     0\n",
       "hour_2                     0\n",
       "hour_3                     0\n",
       "hour_4                     0\n",
       "hour_5                     0\n",
       "hour_6                     0\n",
       "hour_7                     0\n",
       "hour_8                     0\n",
       "hour_9                     0\n",
       "hour_10                    0\n",
       "hour_11                    0\n",
       "hour_12                    0\n",
       "hour_13                    0\n",
       "hour_14                    0\n",
       "hour_15                    0\n",
       "hour_16                    0\n",
       "hour_17                    0\n",
       "hour_18                    0\n",
       "hour_19                    0\n",
       "hour_20                    0\n",
       "hour_21                    0\n",
       "hour_22                    0\n",
       "hour_23                    0\n",
       "month_2                    0\n",
       "month_3                    0\n",
       "month_4                    0\n",
       "month_5                    0\n",
       "month_6                    0\n",
       "dtype: int64"
      ]
     },
     "execution_count": 35,
     "metadata": {},
     "output_type": "execute_result"
    }
   ],
   "execution_count": 35
  },
  {
   "cell_type": "markdown",
   "metadata": {},
   "source": [
    "Начнем с **passenger_count**. Вообще говоря, изначально это была категориальная колонка, к которой мы применили технику OneHotEncoder. Чтобы избавиться от пропусков в данных, конечно, можно просто убрать все объекты, в которых есть пропуски, но тогда мы потеряем ценную информацию. \n",
    "\n",
    "Воспользуйтесь относительно простым приемом из лекции: в указанной колонке заполните пропуски самым *популярным* значением среди неотсутствующих."
   ],
   "id": "44ef5d5d336548aa"
  },
  {
   "cell_type": "code",
   "metadata": {
    "ExecuteTime": {
     "end_time": "2025-03-27T10:03:16.453564Z",
     "start_time": "2025-03-27T10:03:16.413492Z"
    }
   },
   "source": [
    "### Your code is here\n",
    "passenger_count_most_common = data.passenger_count.value_counts().reset_index()['passenger_count'].values[0]\n",
    "print((passenger_count_most_common))"
   ],
   "id": "86d5c119ef2c2702",
   "outputs": [
    {
     "name": "stdout",
     "output_type": "stream",
     "text": [
      "930.3997532751514\n"
     ]
    }
   ],
   "execution_count": 40
  },
  {
   "metadata": {
    "ExecuteTime": {
     "end_time": "2025-03-27T09:44:12.990523Z",
     "start_time": "2025-03-27T09:44:12.978149Z"
    }
   },
   "cell_type": "code",
   "source": "data.shape",
   "id": "b6315a72b23cab30",
   "outputs": [
    {
     "data": {
      "text/plain": [
       "(1458644, 41)"
      ]
     },
     "execution_count": 28,
     "metadata": {},
     "output_type": "execute_result"
    }
   ],
   "execution_count": 28
  },
  {
   "metadata": {
    "ExecuteTime": {
     "end_time": "2025-03-27T10:03:21.753539Z",
     "start_time": "2025-03-27T10:03:21.732920Z"
    }
   },
   "cell_type": "code",
   "source": "data['passenger_count'] = data['passenger_count'].fillna(passenger_count_most_common)",
   "id": "48965c01e85ada4b",
   "outputs": [],
   "execution_count": 41
  },
  {
   "cell_type": "markdown",
   "metadata": {},
   "source": [
    "С колонкой **distance_km** поступим более интересным способом!\n",
    "\n",
    "Чтобы заполнить пропуск в данной колонке для того или иного объекта, можно находить наиболее похожий на него объект и подглядывать в его значение **distance_km**. Для того, чтобы понять, насколько объекты похожи друг на друга, необходимо использовать Евклидово расстояние между этими самыми объектами в пространстве всех признаков!\n",
    "\n",
    "С учетом количества объектов в нашем датасете и признаков, посчитать попарные расстояния будет мега-сложно. Поэтому давайте называть объекты похожими, если они принадлежат одной категории, составленной из следующих колонок:\n",
    "\n",
    "1. vendor_id\n",
    "2. store_and_fwd_flag\n",
    "3. traffic_jam\n",
    "4. month_2\n",
    "5. month_3\n",
    "6. month_4\n",
    "7. month_5\n",
    "8. month_6\n",
    "\n",
    "Внутри каждой группы найдите среднее значение признака **distance_km** и заполните NaN'ы в объектах с пропуском в соответствии с тем, к какой категории относится данный объект. Похожее упражнение мы делали на практике в занятии!\n",
    "\n",
    "**Hint**: достаточно просто взять group by по указанным выше категориальным колонкам и верно вставить полученный результат в исходную табличку.\n",
    "\n",
    "P.S. Колонки выбраны случайным образом. Можно было взять и другую комбинацию."
   ],
   "id": "335f3722a09e9189"
  },
  {
   "cell_type": "code",
   "metadata": {
    "ExecuteTime": {
     "end_time": "2025-03-27T10:03:26.448899Z",
     "start_time": "2025-03-27T10:03:26.155512Z"
    }
   },
   "source": [
    "### Your code is here\n",
    "data.groupby(['vendor_id', 'store_and_fwd_flag', 'traffic_jam', 'month_2', 'month_3', 'month_4', 'month_5', 'month_6'])['distance_km'].transform('mean')"
   ],
   "id": "d0387a46c46d7581",
   "outputs": [
    {
     "data": {
      "text/plain": [
       "id\n",
       "id2875421    3.466395\n",
       "id2377394    3.463570\n",
       "id3858529    3.183494\n",
       "id3504673    3.468311\n",
       "id2181028    3.466395\n",
       "               ...   \n",
       "id2376096    3.468311\n",
       "id1049543    3.323767\n",
       "id2304944    3.468311\n",
       "id2714485    3.323767\n",
       "id1209952    3.389926\n",
       "Name: distance_km, Length: 1458644, dtype: float64"
      ]
     },
     "execution_count": 42,
     "metadata": {},
     "output_type": "execute_result"
    }
   ],
   "execution_count": 42
  },
  {
   "cell_type": "code",
   "metadata": {
    "ExecuteTime": {
     "end_time": "2025-03-27T10:03:37.311562Z",
     "start_time": "2025-03-27T10:03:37.026407Z"
    }
   },
   "source": [
    "### Убедимся, что пропусков не осталось\n",
    "\n",
    "### Your code is here\n",
    "\n",
    "data['distance_km'] = data['distance_km'].fillna(data.groupby(['vendor_id', 'store_and_fwd_flag', 'traffic_jam', 'month_2', 'month_3', 'month_4', 'month_5', 'month_6'])['distance_km'].transform('mean'))\n"
   ],
   "id": "a1d812be0986f123",
   "outputs": [],
   "execution_count": 44
  },
  {
   "metadata": {
    "ExecuteTime": {
     "end_time": "2025-03-27T10:03:40.515470Z",
     "start_time": "2025-03-27T10:03:40.424380Z"
    }
   },
   "cell_type": "code",
   "source": "data.isna().sum()",
   "id": "6426133045d7ea5c",
   "outputs": [
    {
     "data": {
      "text/plain": [
       "vendor_id             0\n",
       "passenger_count       0\n",
       "store_and_fwd_flag    0\n",
       "distance_km           0\n",
       "log_trip_duration     0\n",
       "anomaly               0\n",
       "traffic_jam           0\n",
       "day_of_week_1         0\n",
       "day_of_week_2         0\n",
       "day_of_week_3         0\n",
       "day_of_week_4         0\n",
       "day_of_week_5         0\n",
       "day_of_week_6         0\n",
       "hour_1                0\n",
       "hour_2                0\n",
       "hour_3                0\n",
       "hour_4                0\n",
       "hour_5                0\n",
       "hour_6                0\n",
       "hour_7                0\n",
       "hour_8                0\n",
       "hour_9                0\n",
       "hour_10               0\n",
       "hour_11               0\n",
       "hour_12               0\n",
       "hour_13               0\n",
       "hour_14               0\n",
       "hour_15               0\n",
       "hour_16               0\n",
       "hour_17               0\n",
       "hour_18               0\n",
       "hour_19               0\n",
       "hour_20               0\n",
       "hour_21               0\n",
       "hour_22               0\n",
       "hour_23               0\n",
       "month_2               0\n",
       "month_3               0\n",
       "month_4               0\n",
       "month_5               0\n",
       "month_6               0\n",
       "dtype: int64"
      ]
     },
     "execution_count": 45,
     "metadata": {},
     "output_type": "execute_result"
    }
   ],
   "execution_count": 45
  },
  {
   "metadata": {
    "ExecuteTime": {
     "end_time": "2025-03-27T10:03:44.687636Z",
     "start_time": "2025-03-27T10:03:44.677601Z"
    }
   },
   "cell_type": "code",
   "source": "data.head(20).to_csv('step_7.csv', sep=';', index=False)",
   "id": "b434591d49cb6a82",
   "outputs": [],
   "execution_count": 46
  },
  {
   "cell_type": "markdown",
   "metadata": {},
   "source": [
    "### Теперь наши данные чисты! Замерьте качество модели на Кросс-Валидации"
   ],
   "id": "874b38cede030e07"
  },
  {
   "cell_type": "code",
   "metadata": {
    "ExecuteTime": {
     "end_time": "2025-03-27T10:10:34.135150Z",
     "start_time": "2025-03-27T10:10:14.386294Z"
    }
   },
   "source": [
    "from sklearn.model_selection import KFold\n",
    "\n",
    "selector = KFold(n_splits=4, shuffle=True, random_state=33)\n",
    "\n",
    "from sklearn.model_selection import cross_validate\n",
    "X = data.drop(columns=['log_trip_duration'])\n",
    "y = data.log_trip_duration\n",
    "\n",
    "mse_list = []\n",
    "### Your code is here\n",
    "for train_index, test_index in selector.split(X):\n",
    "    X_train, X_test = X.iloc[train_index], X.iloc[test_index]\n",
    "    y_train, y_test = y.iloc[train_index], y.iloc[test_index]\n",
    "\n",
    "    model = LinearRegression()\n",
    "    model.fit(X_train, y_train)\n",
    "\n",
    "    mse_list.append(mean_squared_error(y_test, model.predict(X_test)))\n",
    "\n",
    "cross_val_error = np.mean(mse_list)\n",
    "print(f\"MSLE на Кросс-валидации: {round(cross_val_error, 3)}\")"
   ],
   "id": "855c1a9db79873aa",
   "outputs": [
    {
     "name": "stdout",
     "output_type": "stream",
     "text": [
      "MSLE на Кросс-валидации: 0.431\n"
     ]
    }
   ],
   "execution_count": 47
  },
  {
   "cell_type": "markdown",
   "metadata": {},
   "source": [
    "### Проведем анализ выбросов! Нарисуйте ящик с усами и гистограмму для таргетной переменной."
   ],
   "id": "cb21d6cd170490e2"
  },
  {
   "cell_type": "code",
   "metadata": {
    "ExecuteTime": {
     "end_time": "2025-03-27T10:15:22.787405Z",
     "start_time": "2025-03-27T10:15:19.374679Z"
    }
   },
   "source": [
    "### Your code is here\n",
    "import seaborn as sns\n",
    "\n",
    "fig = plt.figure()\n",
    "fig.set_size_inches(16, 10)\n",
    "sns.boxplot(data=data.log_trip_duration)\n",
    "plt.ylim(6, 11)\n",
    "\n",
    "plt.show()\n"
   ],
   "id": "92dcb8c17b564c3b",
   "outputs": [
    {
     "data": {
      "text/plain": [
       "<Figure size 1600x1000 with 1 Axes>"
      ],
      "image/png": "[encoded data removed]"
     },
     "metadata": {},
     "output_type": "display_data"
    }
   ],
   "execution_count": 51
  },
  {
   "metadata": {
    "ExecuteTime": {
     "end_time": "2025-03-27T10:34:50.347848Z",
     "start_time": "2025-03-27T10:34:50.131188Z"
    }
   },
   "cell_type": "code",
   "source": [
    "fig = plt.figure()\n",
    "fig.set_size_inches(16, 10)\n",
    "plt.boxplot(data.log_trip_duration.values)\n",
    "plt.ylim(6, 11)\n",
    "\n",
    "plt.show()\n"
   ],
   "id": "8910a7237b505ff1",
   "outputs": [
    {
     "data": {
      "text/plain": [
       "<Figure size 1600x1000 with 1 Axes>"
      ],
      "image/png": "[encoded data removed]"
     },
     "metadata": {},
     "output_type": "display_data"
    }
   ],
   "execution_count": 65
  },
  {
   "metadata": {
    "ExecuteTime": {
     "end_time": "2025-03-27T10:35:47.051319Z",
     "start_time": "2025-03-27T10:35:46.634644Z"
    }
   },
   "cell_type": "code",
   "source": [
    "fig = plt.figure()\n",
    "fig.set_size_inches(16, 10)\n",
    "data.log_trip_duration.hist(bins=100)\n",
    "# plt.ylim(6, 11)\n",
    "\n",
    "plt.show()\n"
   ],
   "id": "491847de37147ed8",
   "outputs": [
    {
     "data": {
      "text/plain": [
       "<Figure size 1600x1000 with 1 Axes>"
      ],
      "image/png": "[encoded data removed]"
     },
     "metadata": {},
     "output_type": "display_data"
    }
   ],
   "execution_count": 67
  },
  {
   "cell_type": "markdown",
   "metadata": {},
   "source": [
    "Есть ли, на ваш взгляд, в данных выбросы?\n",
    "\n",
    "Кажется, что да!\n",
    "\n",
    "Давайте почистим их, удалив те объекты, таргеты которых находятся вне промежутка\n",
    "\n",
    "(топ 99,5% значение;   топ 0,5% значение)"
   ],
   "id": "7ba98c1344e18265"
  },
  {
   "cell_type": "code",
   "metadata": {
    "ExecuteTime": {
     "end_time": "2025-03-27T10:36:49.466165Z",
     "start_time": "2025-03-27T10:36:49.399179Z"
    }
   },
   "source": [
    "### Your code is here\n",
    "min_threshold = data.log_trip_duration.quantile(0.005)\n",
    "max_threshold = data.log_trip_duration.quantile(0.995)"
   ],
   "id": "7b07fc5a6b09615d",
   "outputs": [],
   "execution_count": 68
  },
  {
   "cell_type": "markdown",
   "metadata": {},
   "source": [
    "Снова замерьте качество на кросс-валидации, используя старый selector"
   ],
   "id": "c96172ad767e868f"
  },
  {
   "cell_type": "code",
   "metadata": {
    "ExecuteTime": {
     "end_time": "2025-03-27T10:36:52.033945Z",
     "start_time": "2025-03-27T10:36:51.223050Z"
    }
   },
   "source": [
    "### Your code is here\n",
    "filtered_data = data[(data.log_trip_duration > min_threshold) & (data.log_trip_duration < max_threshold)]\n"
   ],
   "id": "3bce131fce84efa4",
   "outputs": [],
   "execution_count": 69
  },
  {
   "cell_type": "code",
   "metadata": {
    "ExecuteTime": {
     "end_time": "2025-03-27T10:37:09.450582Z",
     "start_time": "2025-03-27T10:36:52.730447Z"
    }
   },
   "source": [
    "X = filtered_data.drop(columns=['log_trip_duration'])\n",
    "y = filtered_data.log_trip_duration\n",
    "\n",
    "mse_list = []\n",
    "### Your code is here\n",
    "for train_index, test_index in selector.split(X):\n",
    "    X_train, X_test = X.iloc[train_index], X.iloc[test_index]\n",
    "    y_train, y_test = y.iloc[train_index], y.iloc[test_index]\n",
    "\n",
    "    model = LinearRegression()\n",
    "    model.fit(X_train, y_train)\n",
    "\n",
    "    mse_list.append(mean_squared_error(y_test, model.predict(X_test)))\n",
    "\n",
    "cross_val_error = np.mean(mse_list)\n",
    "print(f\"MSLE на Кросс-валидации: {round(cross_val_error, 3)}\")"
   ],
   "id": "ecf454f539338f13",
   "outputs": [
    {
     "name": "stdout",
     "output_type": "stream",
     "text": [
      "MSLE на Кросс-валидации: 0.35\n"
     ]
    }
   ],
   "execution_count": 70
  },
  {
   "metadata": {},
   "cell_type": "code",
   "outputs": [],
   "execution_count": null,
   "source": "",
   "id": "c06534e8480222d"
  }
 ],
 "metadata": {
  "kernelspec": {
   "display_name": "Python 3",
   "language": "python",
   "name": "python3"
  },
  "language_info": {
   "codemirror_mode": {
    "name": "ipython",
    "version": 3
   },
   "file_extension": ".py",
   "mimetype": "text/x-python",
   "name": "python",
   "nbconvert_exporter": "python",
   "pygments_lexer": "ipython3",
   "version": "3.7.3"
  }
 },
 "nbformat": 4,
 "nbformat_minor": 5
}
